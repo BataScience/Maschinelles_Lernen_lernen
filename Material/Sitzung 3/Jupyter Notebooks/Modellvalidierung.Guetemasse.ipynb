{
 "cells": [
  {
   "cell_type": "markdown",
   "metadata": {},
   "source": [
    "# Jupyter Notebook 3.1: Modellvalidierung.Guetemaße"
   ]
  },
  {
   "cell_type": "markdown",
   "metadata": {},
   "source": [
    "Zu Beginn des Notebooks werden die Bilbiotheken eingebunden, welche innerhalb des Notebooks zur Verarbeitung genutzt werden."
   ]
  },
  {
   "cell_type": "code",
   "execution_count": null,
   "metadata": {},
   "outputs": [],
   "source": [
    "import matplotlib.pyplot as plt # Bibliothek für Visualisierungen\n",
    "import numpy as np # Bibliothek für wissenschaftliche Berechnungen\n",
    "import pandas as pd # Bibliothek zur Datenanalyse\n",
    "import sklearn # Bibliothek zum maschinellen Lernen"
   ]
  },
  {
   "cell_type": "code",
   "execution_count": null,
   "metadata": {},
   "outputs": [],
   "source": [
    "import warnings\n",
    "warnings.filterwarnings(action='ignore', message='X does not have valid feature names, but KNeighborsClassifier was fitted with feature names')"
   ]
  },
  {
   "cell_type": "markdown",
   "metadata": {},
   "source": [
    "<hr style=\"border:1px solid black\"> </hr>"
   ]
  },
  {
   "cell_type": "markdown",
   "metadata": {},
   "source": [
    "### Problemstellung und Vorbereitung: Risse in Stahlproben"
   ]
  },
  {
   "cell_type": "markdown",
   "metadata": {},
   "source": [
    "Nachdem Sie der Entwicklungsabteilung ein Modell zur Klassifizierung der Stahlqualität versprochen haben, wurde ein neuer Datensatz erhoben, um den Unterschied der beiden Stähle herauszuarbeiten. Dieser Datensatz entstand aus Aufnahmen der Stahloberfläche von Proben des alten und neues Stahls, die einer bestimmten Anzahl von Lastwechseln ausgesetzt wurden, um die Belastung im Bauteil zu simmulieren. Aus Aufnahmen der Proben nach der Belastung konnten dann die Anzahl der Risse und die Breite des längsten Risses ermittelt werden. \n",
    "\n",
    "Der hierzu nachgelieferte Datensatz steht Ihnen nun zur Verfügung und soll am Ende des Notebooks mit Ihrem Modell klassifiziert werden. "
   ]
  },
  {
   "cell_type": "markdown",
   "metadata": {},
   "source": [
    "![Risse](Stahl.jpg)"
   ]
  },
  {
   "cell_type": "markdown",
   "metadata": {},
   "source": [
    "In dem Datensatz sind für jedes Bauteil die Anzahl der Risse, die Breite des größten Risses und die Kategorisierung in \"gut\" und \"schlecht\" angegeben. Die folgenden Zellen wurden in früheren Jupyter Notebooks genutzt, um die Daten für die Visualisierung vorzubereiten und werden nun auch hier ausgeführt."
   ]
  },
  {
   "cell_type": "code",
   "execution_count": null,
   "metadata": {
    "scrolled": true
   },
   "outputs": [],
   "source": [
    "daten = pd.read_excel(r'Qualitaet.xlsx')\n",
    "daten"
   ]
  },
  {
   "cell_type": "code",
   "execution_count": null,
   "metadata": {},
   "outputs": [],
   "source": [
    "daten = daten.dropna()\n",
    "daten = daten.replace(\"gut\",0)\n",
    "daten = daten.replace(\"schlecht\",1)\n",
    "daten = daten.replace(\"schlehct\",1)\n",
    "display(daten)"
   ]
  },
  {
   "cell_type": "code",
   "execution_count": null,
   "metadata": {},
   "outputs": [],
   "source": [
    "X = daten.iloc[:,1:3]\n",
    "klasse = daten['Ausschuss']"
   ]
  },
  {
   "cell_type": "markdown",
   "metadata": {},
   "source": [
    "<hr style=\"border:1px solid black\"> </hr>"
   ]
  },
  {
   "cell_type": "markdown",
   "metadata": {},
   "source": [
    "### Visualisierung"
   ]
  },
  {
   "cell_type": "markdown",
   "metadata": {},
   "source": [
    "Der folgende Code definiert eine komplexere Möglichkeit der Visualisierung, die in vergangenen Notebooks bereits hilfreich gewesen ist. Die einzelnen Zeilen müssen nicht nachvollzogen werden und die Funktionalität wird in einem späteren Arbeitsauftrag erläutert. "
   ]
  },
  {
   "cell_type": "code",
   "execution_count": null,
   "metadata": {
    "hide_input": false
   },
   "outputs": [],
   "source": [
    "from matplotlib.colors import ListedColormap\n",
    "\n",
    "cmap_bold = ListedColormap(['#0000FF', '#00FF00', '#FF0000'])\n",
    "cmap_light = ListedColormap(['#AAAAFF', '#AAFFAA', '#FFAAAA'])\n",
    "font_size=25\n",
    "\n",
    "def meshGrid(x_data, y_data):\n",
    "    h = 2  # step size in the mesh, ursprünglich 0.02\n",
    "    x_min, x_max = x_data.min() - 1, x_data.max() + 1\n",
    "    y_min, y_max = y_data.min() - 1, y_data.max() + 1\n",
    "    xx, yy = np.meshgrid(np.arange(x_min, x_max, h),\n",
    "                         np.arange(y_min, y_max, h))\n",
    "    return (xx,yy)\n",
    "    \n",
    "def plotPrediction(clf, x_data, y_data, x_label, y_label, colors, title=\"\", mesh=True):\n",
    "    xx,yy = meshGrid(x_data, y_data)\n",
    "    Z = clf.predict(np.c_[xx.ravel(), yy.ravel()])\n",
    "\n",
    "    # Put the result into a color plot\n",
    "    Z = Z.reshape(xx.shape)\n",
    "    plt.figure(figsize=(20,10))\n",
    "    if mesh:\n",
    "        plt.pcolormesh(xx, yy, Z, cmap=cmap_light, shading='auto')\n",
    "    plt.xlim(xx.min(), xx.max())\n",
    "    plt.ylim(yy.min(), yy.max())\n",
    "    plt.scatter(x_data, y_data, c=colors, cmap=cmap_bold, s=80, marker='o')\n",
    "    plt.xlabel(x_label, fontsize=font_size)\n",
    "    plt.ylabel(y_label, fontsize=font_size)\n",
    "    plt.title(title, fontsize=font_size)"
   ]
  },
  {
   "cell_type": "markdown",
   "metadata": {},
   "source": [
    "<hr style=\"border:1px solid black\"> </hr>"
   ]
  },
  {
   "cell_type": "markdown",
   "metadata": {},
   "source": [
    "### kNN Algorithmus"
   ]
  },
  {
   "cell_type": "markdown",
   "metadata": {},
   "source": [
    "Die folgenden Zellen wurden im letzten Jupyter Notebook genutzt, um das Modell zu fitten und werden nun auch hier ausgeführt."
   ]
  },
  {
   "cell_type": "markdown",
   "metadata": {},
   "source": [
    "<div class=\"alert alert-block alert-success\">\n",
    "<b>Arbeitsauftrag:</b> Führen Sie die folgenden Zellen aus, um das Modell zu fitten. Erinneren Sie sich, wozu die einzelnen Befehle eingesetzt wurden und kommentiere die Codezeilen in den Zellen. \n",
    "</div>"
   ]
  },
  {
   "cell_type": "code",
   "execution_count": null,
   "metadata": {},
   "outputs": [],
   "source": [
    "from sklearn import neighbors\n",
    "from sklearn.model_selection import train_test_split"
   ]
  },
  {
   "cell_type": "code",
   "execution_count": null,
   "metadata": {},
   "outputs": [],
   "source": [
    "X_train, X_test, y_train, y_test = train_test_split(X, klasse, test_size=0.3, random_state=6, stratify=klasse)"
   ]
  },
  {
   "cell_type": "code",
   "execution_count": null,
   "metadata": {},
   "outputs": [],
   "source": [
    "k = 1\n",
    "clf = neighbors.KNeighborsClassifier(k) \n",
    "clf.fit(X_train, y_train)\n",
    "plotPrediction(clf, X_train.iloc[:, 0], X_train.iloc[:, 1], 'Anzahl der  Risse', 'Breite des größten Risses', y_train, title=\"Datensatz zur Stahlqualität\")"
   ]
  },
  {
   "cell_type": "markdown",
   "metadata": {},
   "source": [
    "<hr style=\"border:1px solid black\"> </hr>"
   ]
  },
  {
   "cell_type": "markdown",
   "metadata": {},
   "source": [
    "### Gütemaße "
   ]
  },
  {
   "cell_type": "markdown",
   "metadata": {},
   "source": [
    "Mit Hilfe der Python Bibliothek sklearn lassen sich die in der Vorlesung thematisierten Gütemaße berechnen.  "
   ]
  },
  {
   "cell_type": "markdown",
   "metadata": {},
   "source": [
    "##### Confusion Matrix"
   ]
  },
  {
   "cell_type": "code",
   "execution_count": null,
   "metadata": {},
   "outputs": [],
   "source": [
    "from sklearn.metrics import confusion_matrix\n",
    "cm = confusion_matrix(y_test, clf.predict(X_test)).transpose()\n",
    "print(cm)"
   ]
  },
  {
   "cell_type": "code",
   "execution_count": null,
   "metadata": {},
   "outputs": [],
   "source": [
    "cm_norm = cm/cm.sum(axis=0)\n",
    "print(cm_norm)"
   ]
  },
  {
   "cell_type": "markdown",
   "metadata": {},
   "source": [
    "<div class=\"alert alert-block alert-success\">\n",
    "    <b>Frage:</b> Wo sind die Einträge aus der Variable <tt>cm_norm</tt> in der Vorlesung wiederzufinden?\n",
    "</div>"
   ]
  },
  {
   "cell_type": "markdown",
   "metadata": {},
   "source": [
    "**Antwort:**"
   ]
  },
  {
   "cell_type": "markdown",
   "metadata": {},
   "source": [
    "##### Accuracy"
   ]
  },
  {
   "cell_type": "code",
   "execution_count": null,
   "metadata": {},
   "outputs": [],
   "source": [
    "from sklearn.metrics import accuracy_score \n",
    "print(accuracy_score(y_test, clf.predict(X_test)))"
   ]
  },
  {
   "cell_type": "markdown",
   "metadata": {},
   "source": [
    "##### Precision und Recall "
   ]
  },
  {
   "cell_type": "code",
   "execution_count": null,
   "metadata": {},
   "outputs": [],
   "source": [
    "prec = cm[0,0]/(cm[0,0]+cm[0,1])\n",
    "print(prec)"
   ]
  },
  {
   "cell_type": "markdown",
   "metadata": {},
   "source": [
    "<div class=\"alert alert-block alert-success\">\n",
    "<b>Arbeitsauftrag:</b> Kopieren Sie den Code aus der vorhergehenden Zelle und änderen Sie ihn so ab, dass mit der Variable <tt>rec</tt> der Recall berechnet und ausgegeben wird. \n",
    "</div>"
   ]
  },
  {
   "cell_type": "code",
   "execution_count": null,
   "metadata": {},
   "outputs": [],
   "source": [
    "# Platz für den Arbeitsauftrag\n",
    "rec = \n",
    "print(rec)"
   ]
  },
  {
   "cell_type": "markdown",
   "metadata": {},
   "source": [
    "##### F1-Score"
   ]
  },
  {
   "cell_type": "code",
   "execution_count": null,
   "metadata": {},
   "outputs": [],
   "source": [
    "F1 = 2*(prec*rec)/(prec+rec)\n",
    "print(F1)"
   ]
  }
 ],
 "metadata": {
  "kernelspec": {
   "display_name": "Python 3 (ipykernel)",
   "language": "python",
   "name": "python3"
  },
  "language_info": {
   "codemirror_mode": {
    "name": "ipython",
    "version": 3
   },
   "file_extension": ".py",
   "mimetype": "text/x-python",
   "name": "python",
   "nbconvert_exporter": "python",
   "pygments_lexer": "ipython3",
   "version": "3.9.12"
  },
  "latex_envs": {
   "LaTeX_envs_menu_present": true,
   "autoclose": false,
   "autocomplete": true,
   "bibliofile": "biblio.bib",
   "cite_by": "apalike",
   "current_citInitial": 1,
   "eqLabelWithNumbers": true,
   "eqNumInitial": 1,
   "hotkeys": {
    "equation": "Ctrl-E",
    "itemize": "Ctrl-I"
   },
   "labels_anchors": false,
   "latex_user_defs": false,
   "report_style_numbering": false,
   "user_envs_cfg": false
  },
  "toc": {
   "base_numbering": "1",
   "nav_menu": {},
   "number_sections": false,
   "sideBar": true,
   "skip_h1_title": true,
   "title_cell": "Table of Contents",
   "title_sidebar": "Contents",
   "toc_cell": false,
   "toc_position": {
    "height": "calc(100% - 180px)",
    "left": "10px",
    "top": "150px",
    "width": "165px"
   },
   "toc_section_display": true,
   "toc_window_display": false
  },
  "varInspector": {
   "cols": {
    "lenName": 16,
    "lenType": 16,
    "lenVar": 40
   },
   "kernels_config": {
    "python": {
     "delete_cmd_postfix": "",
     "delete_cmd_prefix": "del ",
     "library": "var_list.py",
     "varRefreshCmd": "print(var_dic_list())"
    },
    "r": {
     "delete_cmd_postfix": ") ",
     "delete_cmd_prefix": "rm(",
     "library": "var_list.r",
     "varRefreshCmd": "cat(var_dic_list()) "
    }
   },
   "types_to_exclude": [
    "module",
    "function",
    "builtin_function_or_method",
    "instance",
    "_Feature"
   ],
   "window_display": false
  }
 },
 "nbformat": 4,
 "nbformat_minor": 4
}
