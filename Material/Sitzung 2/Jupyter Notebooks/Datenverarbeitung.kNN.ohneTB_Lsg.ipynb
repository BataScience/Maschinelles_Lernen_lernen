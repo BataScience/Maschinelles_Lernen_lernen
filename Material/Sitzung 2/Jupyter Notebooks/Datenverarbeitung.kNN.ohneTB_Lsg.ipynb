{
 "cells": [
  {
   "cell_type": "markdown",
   "metadata": {},
   "source": [
    "# Jupyter Notebook 2.1: Datenverarbeitung.kNN.ohneTB - Lösung"
   ]
  },
  {
   "cell_type": "markdown",
   "metadata": {},
   "source": [
    "<hr style=\"border:1px solid black\"> </hr>"
   ]
  },
  {
   "cell_type": "markdown",
   "metadata": {},
   "source": [
    "Zu Beginn des Notebooks werden die Bilbiotheken eingebunden, welche innerhalb des Notebooks zur Verarbeitung genutzt werden."
   ]
  },
  {
   "cell_type": "code",
   "execution_count": 1,
   "metadata": {},
   "outputs": [],
   "source": [
    "import matplotlib.pyplot as plt # Bibliothek für Visualisierungen\n",
    "import numpy as np # Bibliothek für wissenschaftliche Berechnungen\n",
    "import pandas as pd # Bibliothek zur Datenanalyse"
   ]
  },
  {
   "cell_type": "markdown",
   "metadata": {},
   "source": [
    "<hr style=\"border:1px solid black\"> </hr>"
   ]
  },
  {
   "cell_type": "markdown",
   "metadata": {},
   "source": [
    "### Problemstellung und Datensatz: Klassifikation von Einkaufswagen"
   ]
  },
  {
   "cell_type": "markdown",
   "metadata": {},
   "source": [
    "Es wird der konstruierte Datensatz aus dem Beispiel zur automatisierten Unterscheidung zwischen\n",
    "Hamsterkauf und Familieneinkauf betrachtet. "
   ]
  },
  {
   "cell_type": "markdown",
   "metadata": {},
   "source": [
    "![Beispiel](Beispiel.png)"
   ]
  },
  {
   "cell_type": "markdown",
   "metadata": {},
   "source": [
    "In dem Datensatz sind für jeden dokumentierten Einkauf die Anzahl der Packungen Klopapier, die Anzahl der Packungen Nudeln und die Klassifizierung in \"Hamsterkauf\" und \"Familienkauf\" angegeben. \n",
    "\n",
    "Die Daten werden nun zunächst eingelesen und dann visualisiert."
   ]
  },
  {
   "cell_type": "code",
   "execution_count": 2,
   "metadata": {
    "scrolled": true
   },
   "outputs": [
    {
     "data": {
      "text/html": [
       "<div>\n",
       "<style scoped>\n",
       "    .dataframe tbody tr th:only-of-type {\n",
       "        vertical-align: middle;\n",
       "    }\n",
       "\n",
       "    .dataframe tbody tr th {\n",
       "        vertical-align: top;\n",
       "    }\n",
       "\n",
       "    .dataframe thead th {\n",
       "        text-align: right;\n",
       "    }\n",
       "</style>\n",
       "<table border=\"1\" class=\"dataframe\">\n",
       "  <thead>\n",
       "    <tr style=\"text-align: right;\">\n",
       "      <th></th>\n",
       "      <th>Nudeln</th>\n",
       "      <th>Klopapier</th>\n",
       "      <th>Klasse</th>\n",
       "    </tr>\n",
       "  </thead>\n",
       "  <tbody>\n",
       "    <tr>\n",
       "      <th>0</th>\n",
       "      <td>1</td>\n",
       "      <td>9</td>\n",
       "      <td>0</td>\n",
       "    </tr>\n",
       "    <tr>\n",
       "      <th>1</th>\n",
       "      <td>1</td>\n",
       "      <td>7</td>\n",
       "      <td>0</td>\n",
       "    </tr>\n",
       "    <tr>\n",
       "      <th>2</th>\n",
       "      <td>3</td>\n",
       "      <td>9</td>\n",
       "      <td>0</td>\n",
       "    </tr>\n",
       "    <tr>\n",
       "      <th>3</th>\n",
       "      <td>10</td>\n",
       "      <td>1</td>\n",
       "      <td>0</td>\n",
       "    </tr>\n",
       "    <tr>\n",
       "      <th>4</th>\n",
       "      <td>10</td>\n",
       "      <td>3</td>\n",
       "      <td>0</td>\n",
       "    </tr>\n",
       "    <tr>\n",
       "      <th>5</th>\n",
       "      <td>12</td>\n",
       "      <td>7</td>\n",
       "      <td>0</td>\n",
       "    </tr>\n",
       "    <tr>\n",
       "      <th>6</th>\n",
       "      <td>10</td>\n",
       "      <td>9</td>\n",
       "      <td>0</td>\n",
       "    </tr>\n",
       "    <tr>\n",
       "      <th>7</th>\n",
       "      <td>1</td>\n",
       "      <td>4</td>\n",
       "      <td>1</td>\n",
       "    </tr>\n",
       "    <tr>\n",
       "      <th>8</th>\n",
       "      <td>2</td>\n",
       "      <td>5</td>\n",
       "      <td>1</td>\n",
       "    </tr>\n",
       "    <tr>\n",
       "      <th>9</th>\n",
       "      <td>3</td>\n",
       "      <td>3</td>\n",
       "      <td>1</td>\n",
       "    </tr>\n",
       "    <tr>\n",
       "      <th>10</th>\n",
       "      <td>5</td>\n",
       "      <td>1</td>\n",
       "      <td>1</td>\n",
       "    </tr>\n",
       "    <tr>\n",
       "      <th>11</th>\n",
       "      <td>5</td>\n",
       "      <td>5</td>\n",
       "      <td>1</td>\n",
       "    </tr>\n",
       "    <tr>\n",
       "      <th>12</th>\n",
       "      <td>7</td>\n",
       "      <td>1</td>\n",
       "      <td>1</td>\n",
       "    </tr>\n",
       "    <tr>\n",
       "      <th>13</th>\n",
       "      <td>8</td>\n",
       "      <td>2</td>\n",
       "      <td>1</td>\n",
       "    </tr>\n",
       "    <tr>\n",
       "      <th>14</th>\n",
       "      <td>8</td>\n",
       "      <td>4</td>\n",
       "      <td>1</td>\n",
       "    </tr>\n",
       "  </tbody>\n",
       "</table>\n",
       "</div>"
      ],
      "text/plain": [
       "    Nudeln  Klopapier  Klasse\n",
       "0        1          9       0\n",
       "1        1          7       0\n",
       "2        3          9       0\n",
       "3       10          1       0\n",
       "4       10          3       0\n",
       "5       12          7       0\n",
       "6       10          9       0\n",
       "7        1          4       1\n",
       "8        2          5       1\n",
       "9        3          3       1\n",
       "10       5          1       1\n",
       "11       5          5       1\n",
       "12       7          1       1\n",
       "13       8          2       1\n",
       "14       8          4       1"
      ]
     },
     "execution_count": 2,
     "metadata": {},
     "output_type": "execute_result"
    }
   ],
   "source": [
    "daten = list([[1,9,0],\n",
    "    [1,7,0],\n",
    "    [3,9,0],\n",
    "    [10,1,0],\n",
    "    [10,3,0],\n",
    "    [12,7,0],\n",
    "    [10,9,0],\n",
    "    [1,4,1],\n",
    "    [2,5,1],\n",
    "    [3,3,1],\n",
    "    [5,1,1],\n",
    "    [5,5,1],\n",
    "    [7,1,1],\n",
    "    [8,2,1],\n",
    "    [8,4,1]])\n",
    "daten = pd.DataFrame(daten, columns = ['Nudeln','Klopapier','Klasse'])\n",
    "daten"
   ]
  },
  {
   "cell_type": "code",
   "execution_count": 3,
   "metadata": {},
   "outputs": [
    {
     "data": {
      "image/png": "[encoded data removed]",
      "text/plain": [
       "<Figure size 432x288 with 1 Axes>"
      ]
     },
     "metadata": {
      "needs_background": "light"
     },
     "output_type": "display_data"
    }
   ],
   "source": [
    "plt.scatter(daten['Nudeln'],daten['Klopapier'],c=daten['Klasse'].values,marker='x',cmap=\"bwr\")\n",
    "plt.xticks(np.arange(13))\n",
    "plt.grid()\n",
    "plt.title('Klassifikation von Einkaufswagen') \n",
    "plt.xlabel('Nudeln (Pck.)') \n",
    "plt.ylabel('Klopapier (Pck.)') \n",
    "plt.show;"
   ]
  },
  {
   "cell_type": "markdown",
   "metadata": {},
   "source": [
    "Es wird nun ein neues Beispiel mit den Featureausprägungen [8, 7] betrachtet. In der folgenden Zelle wird das neue Beispiel zunächst in der bekannten Grafik visualisiert."
   ]
  },
  {
   "cell_type": "code",
   "execution_count": 4,
   "metadata": {},
   "outputs": [
    {
     "data": {
      "image/png": "[encoded data removed]",
      "text/plain": [
       "<Figure size 432x288 with 1 Axes>"
      ]
     },
     "metadata": {
      "needs_background": "light"
     },
     "output_type": "display_data"
    }
   ],
   "source": [
    "daten_plot = pd.concat([daten, pd.Series({'Nudeln': 8, 'Klopapier': 7, 'Klasse': 2}).to_frame().T])\n",
    "plt.scatter(daten_plot['Nudeln'],daten_plot['Klopapier'],c=daten_plot['Klasse'].values,marker='x',cmap=\"brg\")\n",
    "plt.xticks(np.arange(13))\n",
    "plt.grid()\n",
    "plt.title('Klassifikation von Einkaufswagen') \n",
    "plt.xlabel('Nudeln (Pck.)') \n",
    "plt.ylabel('Klopapier (Pck.)') \n",
    "plt.show; "
   ]
  },
  {
   "cell_type": "markdown",
   "metadata": {},
   "source": [
    "<hr style=\"border:1px solid black\"> </hr>"
   ]
  },
  {
   "cell_type": "markdown",
   "metadata": {},
   "source": [
    "### Programmierung des kNN"
   ]
  },
  {
   "cell_type": "markdown",
   "metadata": {},
   "source": [
    "In den folgenden drei Zellen werden drei Funktionen angelegt, um den Pseudocode des kNN Algorithmus umzusetzen."
   ]
  },
  {
   "cell_type": "markdown",
   "metadata": {},
   "source": [
    "<div class=\"alert alert-block alert-success\">\n",
    "<b>Arbeitsauftrag:</b> In den folgenden Zellen werden die Funktionen <tt>abstand_euklidisch</tt>, <tt>kNN_suche</tt> und <tt>kNN_vorhersage</tt> definiert und im Anschluss die Funktion <tt>kNN_vorhersage</tt> auf das neue Beispiel von oben angewendet. Führen Sie die Zellen aus und erklären Sie unter Zuhilfenahme der Funktionsdefinitionen, was der zugehörige Output bedeutet. <b>Kommentieren Sie den Code aus den Funktionsdefinitionen und markieren Sie die Stellen, die Ihnen nicht klar geworden sind.</b> </div>"
   ]
  },
  {
   "cell_type": "code",
   "execution_count": 5,
   "metadata": {},
   "outputs": [],
   "source": [
    "# Anlegen der Funktionen \"abstand_euklidisch\" und \"abstand_betrag\"\n",
    "# Eingabeparameter : a,b - n dimensionale Vektoren\n",
    "# Berechnet den euklidischen Abstand zwischen den Eingabeparametern x und y\n",
    "def abstand_euklidisch(a, b):\n",
    "    abstand = 0.0\n",
    "    for i in range(len(a)): # Da hier bezüglich \"len(x)\" gerechnet wird, erhalten wir unten keine Probleme wenn zweidimensional (neu) mit dreidimensional (zeile) verrechnet wird\n",
    "        abstand += (a[i] - b[i])**2 \n",
    "    return np.sqrt(abstand)\n",
    "# Berechnet den betragsmäßigen Abstand zwischen den Eingabeparametern x und y\n",
    "def abstand_betrag(a, b):\n",
    "    abstand = 0.0\n",
    "    for i in range(len(a)): # s.o.\n",
    "        abstand += np.absolute(a[i] - b[i]) \n",
    "    return abstand"
   ]
  },
  {
   "cell_type": "code",
   "execution_count": 6,
   "metadata": {},
   "outputs": [],
   "source": [
    "# Anlegen der Funktion kNN_suche\n",
    "# Eingabeparameter : X - Datenmenge mit Features/Label, neu - neu zu klassifizierendes Beispiel, k - Anzahl Nachbarn\n",
    "# Gibt eine Liste mit den k entscheidenden Nachbar bestimmt nach kleinstem euklidischem Abstand aus\n",
    "def kNN_suche(X, neu, k):\n",
    "    abstaende = list() # Vordeklaration einer leeren Liste\n",
    "    for zeile in X: # Geht nacheinander alle Beispiele durch\n",
    "        abstand = abstand_euklidisch(neu,zeile) # Bestimmt den eukl.Abstand jedes Beispiels im Datensatz zum neuen Beispiel\n",
    "        abstaende.append((zeile, abstand)) # Erweitert die Liste um das Beispiel und den zugehörigen eukl.Abstand \n",
    "    abstaende.sort(key=lambda tup: tup[1]) # Die Liste wird sortiert nach tup[1] (\"zweites\" Tupel), also dem eukl.Abstand \n",
    "    print(\"Variable abstaende:\")\n",
    "    print(abstaende) # Die sortierte Liste wird ausgegeben\n",
    "    nachbarn = list() # Vordeklaration einer leeren Liste\n",
    "    for i in range(k): # Geht von 1 bis Anzahl der Nachbarn\n",
    "        nachbarn.append(abstaende[i][0]) # Erweitert die Liste um das erste Tupel der sortierten abstaende Liste (zeile)\n",
    "    print(\"Variable nachbarn:\")\n",
    "    print(nachbarn) # Liste mit den k entscheidenden Nachbarn wird ausgegeben\n",
    "    return nachbarn # Liste mit den k entscheidenden Nachbarn wird zurückgegeben"
   ]
  },
  {
   "cell_type": "code",
   "execution_count": 7,
   "metadata": {},
   "outputs": [],
   "source": [
    "# Anlegen der Funktion kNN_vorhersage\n",
    "# Eingabeparameter : X - Datenmenge mit Features/Label, neu - neu zu klassifizierendes Beispiel, k - Anzahl Nachbarn\n",
    "# Gibt unter Zuhilfenahme der obigen Funktion die Klasse des neuen Beispiels zurück\n",
    "def kNN_vorhersage(X, neu, k):\n",
    "    nachbarn = kNN_suche(X, neu, k) # Ruft mit Hilfe der obigen Funktion Liste mit den k entscheidenden Nachbarn auf\n",
    "    output = [row[-1] for row in nachbarn] # Legt Liste an, die nur die Klasse der Liste Nachbarn enthält\n",
    "    vorhersage = max(set(output), key=output.count) # Bestimmt das Maximum der Einträge von Output (höchster Klasserwert)\n",
    "    return vorhersage # Gibt die Klasse zurück"
   ]
  },
  {
   "cell_type": "code",
   "execution_count": 8,
   "metadata": {},
   "outputs": [
    {
     "name": "stdout",
     "output_type": "stream",
     "text": [
      "Variable abstaende:\n",
      "[(array([10,  9,  0], dtype=int64), 2.8284271247461903), (array([8, 4, 1], dtype=int64), 3.0), (array([5, 5, 1], dtype=int64), 3.605551275463989), (array([12,  7,  0], dtype=int64), 4.0), (array([10,  3,  0], dtype=int64), 4.47213595499958), (array([8, 2, 1], dtype=int64), 5.0), (array([3, 9, 0], dtype=int64), 5.385164807134504), (array([7, 1, 1], dtype=int64), 6.082762530298219), (array([10,  1,  0], dtype=int64), 6.324555320336759), (array([2, 5, 1], dtype=int64), 6.324555320336759), (array([3, 3, 1], dtype=int64), 6.4031242374328485), (array([5, 1, 1], dtype=int64), 6.708203932499369), (array([1, 7, 0], dtype=int64), 7.0), (array([1, 9, 0], dtype=int64), 7.280109889280518), (array([1, 4, 1], dtype=int64), 7.615773105863909)]\n",
      "Variable nachbarn:\n",
      "[array([10,  9,  0], dtype=int64)]\n"
     ]
    },
    {
     "data": {
      "text/plain": [
       "0"
      ]
     },
     "execution_count": 8,
     "metadata": {},
     "output_type": "execute_result"
    }
   ],
   "source": [
    "# Anwenden der Funktionen\n",
    "beispiel = np.array([8, 7])\n",
    "kNN_vorhersage(daten.values, beispiel, 1)"
   ]
  },
  {
   "cell_type": "markdown",
   "metadata": {},
   "source": [
    "<div class=\"alert alert-block alert-success\">\n",
    "<b>Arbeitsauftrag:</b> Ergänzen Sie den Code in der nachfolgenden Zelle so, dass das neue Beispiel nun bezüglich drei Nachbarn klassifiziert wird. Ändert sich das Label des neues Beispiels durch diese Veränderung? </div>    "
   ]
  },
  {
   "cell_type": "code",
   "execution_count": 9,
   "metadata": {},
   "outputs": [
    {
     "name": "stdout",
     "output_type": "stream",
     "text": [
      "Variable abstaende:\n",
      "[(array([10,  9,  0], dtype=int64), 2.8284271247461903), (array([8, 4, 1], dtype=int64), 3.0), (array([5, 5, 1], dtype=int64), 3.605551275463989), (array([12,  7,  0], dtype=int64), 4.0), (array([10,  3,  0], dtype=int64), 4.47213595499958), (array([8, 2, 1], dtype=int64), 5.0), (array([3, 9, 0], dtype=int64), 5.385164807134504), (array([7, 1, 1], dtype=int64), 6.082762530298219), (array([10,  1,  0], dtype=int64), 6.324555320336759), (array([2, 5, 1], dtype=int64), 6.324555320336759), (array([3, 3, 1], dtype=int64), 6.4031242374328485), (array([5, 1, 1], dtype=int64), 6.708203932499369), (array([1, 7, 0], dtype=int64), 7.0), (array([1, 9, 0], dtype=int64), 7.280109889280518), (array([1, 4, 1], dtype=int64), 7.615773105863909)]\n",
      "Variable nachbarn:\n",
      "[array([10,  9,  0], dtype=int64), array([8, 4, 1], dtype=int64), array([5, 5, 1], dtype=int64)]\n"
     ]
    },
    {
     "data": {
      "text/plain": [
       "1"
      ]
     },
     "execution_count": 9,
     "metadata": {},
     "output_type": "execute_result"
    }
   ],
   "source": [
    "# Platz für Arbeitsauftrag\n",
    "kNN_vorhersage(daten.values, beispiel, 3)"
   ]
  },
  {
   "cell_type": "markdown",
   "metadata": {},
   "source": [
    "<div class=\"alert alert-block alert-success\">\n",
    "<b>Arbeitsauftrag:</b> Füllen Sie mittels \"copy+paste\" die nachfolgenden Zellen mit einer erneuten Definition der Funktion <tt>kNN_suche</tt>. Achten Sie darauf, ob der Code innerhalb der Funktionen noch auf die neue Metrik angepasst werden muss. </div>    "
   ]
  },
  {
   "cell_type": "code",
   "execution_count": 10,
   "metadata": {},
   "outputs": [],
   "source": [
    "# Anlegen der Funktion kNN_suche\n",
    "# Eingabeparameter : X - Datenmenge mit Features/Label, neu - neu zu klassifizierendes Beispiel, k - Anzahl Nachbarn\n",
    "# Gibt eine Liste mit den k entscheidenden Nachbar bestimmt nach kleinstem euklidischem Abstand aus\n",
    "def kNN_suche(X, neu, k):\n",
    "    abstaende = list() # Vordeklaration einer leeren Liste\n",
    "    for zeile in X: # Geht nacheinander alle Beispiele durch\n",
    "        abstand = abstand_betrag(neu,zeile) # Bestimmt den eukl.Abstand jedes Beispiels im Datensatz zum neuen Beispiel\n",
    "        abstaende.append((zeile, abstand)) # Erweitert die Liste um das Beispiel und den zugehörigen eukl.Abstand \n",
    "    abstaende.sort(key=lambda tup: tup[1]) # Die Liste wird sortiert nach tup[1] (\"zweites\" Tupel), also dem eukl.Abstand \n",
    "    print(\"Variable abstaende:\")\n",
    "    print(abstaende) # Die sortierte Liste wird ausgegeben\n",
    "    nachbarn = list() # Vordeklaration einer leeren Liste\n",
    "    for i in range(k): # Geht von 1 bis Anzahl der Nachbarn\n",
    "        nachbarn.append(abstaende[i][0]) # Erweitert die Liste um das erste Tupel der sortierten abstaende Liste (zeile)\n",
    "    print(\"Variable nachbarn:\")\n",
    "    print(nachbarn) # Liste mit den k entscheidenden Nachbarn wird ausgegeben\n",
    "    return nachbarn # Liste mit den k entscheidenden Nachbarn wird zurückgegeben"
   ]
  },
  {
   "cell_type": "markdown",
   "metadata": {},
   "source": [
    "In den nachfolgenden beiden Zellen wird das neue Beispiel nun erneut bezüglich einem und drei Nachbarn klassifiziert. "
   ]
  },
  {
   "cell_type": "code",
   "execution_count": 11,
   "metadata": {},
   "outputs": [
    {
     "name": "stdout",
     "output_type": "stream",
     "text": [
      "Variable abstaende:\n",
      "[(array([8, 4, 1], dtype=int64), 3.0), (array([12,  7,  0], dtype=int64), 4.0), (array([10,  9,  0], dtype=int64), 4.0), (array([5, 5, 1], dtype=int64), 5.0), (array([8, 2, 1], dtype=int64), 5.0), (array([10,  3,  0], dtype=int64), 6.0), (array([1, 7, 0], dtype=int64), 7.0), (array([3, 9, 0], dtype=int64), 7.0), (array([7, 1, 1], dtype=int64), 7.0), (array([10,  1,  0], dtype=int64), 8.0), (array([2, 5, 1], dtype=int64), 8.0), (array([1, 9, 0], dtype=int64), 9.0), (array([3, 3, 1], dtype=int64), 9.0), (array([5, 1, 1], dtype=int64), 9.0), (array([1, 4, 1], dtype=int64), 10.0)]\n",
      "Variable nachbarn:\n",
      "[array([8, 4, 1], dtype=int64)]\n"
     ]
    },
    {
     "data": {
      "text/plain": [
       "1"
      ]
     },
     "execution_count": 11,
     "metadata": {},
     "output_type": "execute_result"
    }
   ],
   "source": [
    "kNN_vorhersage(daten.values, beispiel, 1)"
   ]
  },
  {
   "cell_type": "code",
   "execution_count": 12,
   "metadata": {},
   "outputs": [
    {
     "name": "stdout",
     "output_type": "stream",
     "text": [
      "Variable abstaende:\n",
      "[(array([8, 4, 1], dtype=int64), 3.0), (array([12,  7,  0], dtype=int64), 4.0), (array([10,  9,  0], dtype=int64), 4.0), (array([5, 5, 1], dtype=int64), 5.0), (array([8, 2, 1], dtype=int64), 5.0), (array([10,  3,  0], dtype=int64), 6.0), (array([1, 7, 0], dtype=int64), 7.0), (array([3, 9, 0], dtype=int64), 7.0), (array([7, 1, 1], dtype=int64), 7.0), (array([10,  1,  0], dtype=int64), 8.0), (array([2, 5, 1], dtype=int64), 8.0), (array([1, 9, 0], dtype=int64), 9.0), (array([3, 3, 1], dtype=int64), 9.0), (array([5, 1, 1], dtype=int64), 9.0), (array([1, 4, 1], dtype=int64), 10.0)]\n",
      "Variable nachbarn:\n",
      "[array([8, 4, 1], dtype=int64), array([12,  7,  0], dtype=int64), array([10,  9,  0], dtype=int64)]\n"
     ]
    },
    {
     "data": {
      "text/plain": [
       "0"
      ]
     },
     "execution_count": 12,
     "metadata": {},
     "output_type": "execute_result"
    }
   ],
   "source": [
    "kNN_vorhersage(daten.values, beispiel, 3)"
   ]
  },
  {
   "cell_type": "markdown",
   "metadata": {},
   "source": [
    "<div class=\"alert alert-block alert-success\">\n",
    "<b>Frage:</b> Betrachten Sie das Ergebnis im Vergleich zu der oben durchgeführten Klassifikation: Warum ändert sich das vorhergesagte Label? Erläutern Sie unter Zuhilfenahme des Streudiagramms. </div> "
   ]
  },
  {
   "cell_type": "markdown",
   "metadata": {},
   "source": [
    "**Antwort:** Die Ausgabe, also Klassifikation, dreht sich im Vergleich zu vorher um. Betrachtung des Streudiagramms zeigt, dass bei unterschiedlichen Metriken unterschiedliche nächste Nachbarn für den \"dritten Nachbarn\" ermittelt werden. "
   ]
  }
 ],
 "metadata": {
  "kernelspec": {
   "display_name": "Python 3 (ipykernel)",
   "language": "python",
   "name": "python3"
  },
  "language_info": {
   "codemirror_mode": {
    "name": "ipython",
    "version": 3
   },
   "file_extension": ".py",
   "mimetype": "text/x-python",
   "name": "python",
   "nbconvert_exporter": "python",
   "pygments_lexer": "ipython3",
   "version": "3.9.12"
  },
  "latex_envs": {
   "LaTeX_envs_menu_present": true,
   "autoclose": false,
   "autocomplete": true,
   "bibliofile": "biblio.bib",
   "cite_by": "apalike",
   "current_citInitial": 1,
   "eqLabelWithNumbers": true,
   "eqNumInitial": 1,
   "hotkeys": {
    "equation": "Ctrl-E",
    "itemize": "Ctrl-I"
   },
   "labels_anchors": false,
   "latex_user_defs": false,
   "report_style_numbering": false,
   "user_envs_cfg": false
  },
  "toc": {
   "base_numbering": "1",
   "nav_menu": {},
   "number_sections": false,
   "sideBar": true,
   "skip_h1_title": true,
   "title_cell": "Table of Contents",
   "title_sidebar": "Contents",
   "toc_cell": false,
   "toc_position": {
    "height": "calc(100% - 180px)",
    "left": "10px",
    "top": "150px",
    "width": "165px"
   },
   "toc_section_display": true,
   "toc_window_display": false
  },
  "varInspector": {
   "cols": {
    "lenName": 16,
    "lenType": 16,
    "lenVar": 40
   },
   "kernels_config": {
    "python": {
     "delete_cmd_postfix": "",
     "delete_cmd_prefix": "del ",
     "library": "var_list.py",
     "varRefreshCmd": "print(var_dic_list())"
    },
    "r": {
     "delete_cmd_postfix": ") ",
     "delete_cmd_prefix": "rm(",
     "library": "var_list.r",
     "varRefreshCmd": "cat(var_dic_list()) "
    }
   },
   "types_to_exclude": [
    "module",
    "function",
    "builtin_function_or_method",
    "instance",
    "_Feature"
   ],
   "window_display": false
  }
 },
 "nbformat": 4,
 "nbformat_minor": 4
}
